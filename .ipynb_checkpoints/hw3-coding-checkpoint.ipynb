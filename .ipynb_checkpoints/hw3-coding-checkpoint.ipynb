{
 "cells": [
  {
   "cell_type": "markdown",
   "id": "greater-rebound",
   "metadata": {},
   "source": [
    "## 558 Homework 3\n",
    "#### Anushna Prakash\n",
    "#### April 25, 2021"
   ]
  },
  {
   "cell_type": "markdown",
   "id": "caring-generator",
   "metadata": {},
   "source": [
    "$$\\begin{equation}\n",
    "F(\\beta) = \\frac{1}{n} \\sum_{i=1}^n log(1 + e^{-y_i x_i^T \\beta}) + \\lambda ||\\beta||_2^2\n",
    "\\end{equation}\n",
    "$$"
   ]
  }
 ],
 "metadata": {
  "kernelspec": {
   "display_name": "Python [conda env:DATA558] *",
   "language": "python",
   "name": "conda-env-DATA558-py"
  },
  "language_info": {
   "codemirror_mode": {
    "name": "ipython",
    "version": 3
   },
   "file_extension": ".py",
   "mimetype": "text/x-python",
   "name": "python",
   "nbconvert_exporter": "python",
   "pygments_lexer": "ipython3",
   "version": "3.7.10"
  }
 },
 "nbformat": 4,
 "nbformat_minor": 5
}
