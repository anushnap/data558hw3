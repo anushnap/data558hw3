{
 "cells": [
  {
   "cell_type": "markdown",
   "metadata": {},
   "source": [
    "# 558 Homework 3\n",
    "#### Anushna Prakash\n",
    "#### April 25, 2021"
   ]
  },
  {
   "cell_type": "markdown",
   "metadata": {},
   "source": [
    "$$\\begin{equation}\n",
    "F(\\beta) = \\frac{1}{n} \\sum_{i=1}^n log(1 + e^{-y_i x_i^T \\beta}) + \\lambda ||\\beta||_2^2\n",
    "\\end{equation}\n",
    "$$"
   ]
  },
  {
   "cell_type": "markdown",
   "metadata": {},
   "source": [
    "Assume the case where $n=1$ and $d=1$. Then:\n",
    "$$\n",
    "F(\\beta) = log(1 + e^{-y_{i} x_{i}^T \\beta}) + \\lambda \\beta^2\n",
    "\\\\ \\nabla F(\\beta) = \\frac{-yx e^{-yx\\beta}}{1 + e^{-yx \\beta}} + 2\\lambda \\beta\n",
    "$$\n",
    "\n",
    "Now assuming the case where $n>1$ and $d>1$, and $y$ is $1xn$, $x$ is $dxn$ and $\\beta$ is $dx1$:\n",
    "$$\n",
    "\\nabla F(\\beta) = \\frac{1}{n} \\frac{-y^T x e^{-y x^T \\beta}}{1 + e^{-y x^T \\beta}} + 2 \\lambda \\beta \n",
    "$$"
   ]
  },
  {
   "cell_type": "code",
   "execution_count": 1,
   "metadata": {},
   "outputs": [],
   "source": [
    "import pandas as pd\n",
    "import numpy as np\n",
    "from sklearn.preprocessing import StandardScaler\n",
    "from sklearn.linear_model import LogisticRegression, LogisticRegressionCV\n",
    "from sklearn.model_selection import train_test_split"
   ]
  },
  {
   "cell_type": "code",
   "execution_count": 2,
   "metadata": {},
   "outputs": [
    {
     "data": {
      "text/html": [
       "<div>\n",
       "<style scoped>\n",
       "    .dataframe tbody tr th:only-of-type {\n",
       "        vertical-align: middle;\n",
       "    }\n",
       "\n",
       "    .dataframe tbody tr th {\n",
       "        vertical-align: top;\n",
       "    }\n",
       "\n",
       "    .dataframe thead th {\n",
       "        text-align: right;\n",
       "    }\n",
       "</style>\n",
       "<table border=\"1\" class=\"dataframe\">\n",
       "  <thead>\n",
       "    <tr style=\"text-align: right;\">\n",
       "      <th></th>\n",
       "      <th>Year</th>\n",
       "      <th>Lag1</th>\n",
       "      <th>Lag2</th>\n",
       "      <th>Lag3</th>\n",
       "      <th>Lag4</th>\n",
       "      <th>Lag5</th>\n",
       "      <th>Volume</th>\n",
       "      <th>Today</th>\n",
       "      <th>Direction</th>\n",
       "    </tr>\n",
       "  </thead>\n",
       "  <tbody>\n",
       "    <tr>\n",
       "      <th>1</th>\n",
       "      <td>2001</td>\n",
       "      <td>0.381</td>\n",
       "      <td>-0.192</td>\n",
       "      <td>-2.624</td>\n",
       "      <td>-1.055</td>\n",
       "      <td>5.010</td>\n",
       "      <td>1.1913</td>\n",
       "      <td>0.959</td>\n",
       "      <td>Up</td>\n",
       "    </tr>\n",
       "    <tr>\n",
       "      <th>2</th>\n",
       "      <td>2001</td>\n",
       "      <td>0.959</td>\n",
       "      <td>0.381</td>\n",
       "      <td>-0.192</td>\n",
       "      <td>-2.624</td>\n",
       "      <td>-1.055</td>\n",
       "      <td>1.2965</td>\n",
       "      <td>1.032</td>\n",
       "      <td>Up</td>\n",
       "    </tr>\n",
       "    <tr>\n",
       "      <th>3</th>\n",
       "      <td>2001</td>\n",
       "      <td>1.032</td>\n",
       "      <td>0.959</td>\n",
       "      <td>0.381</td>\n",
       "      <td>-0.192</td>\n",
       "      <td>-2.624</td>\n",
       "      <td>1.4112</td>\n",
       "      <td>-0.623</td>\n",
       "      <td>Down</td>\n",
       "    </tr>\n",
       "    <tr>\n",
       "      <th>4</th>\n",
       "      <td>2001</td>\n",
       "      <td>-0.623</td>\n",
       "      <td>1.032</td>\n",
       "      <td>0.959</td>\n",
       "      <td>0.381</td>\n",
       "      <td>-0.192</td>\n",
       "      <td>1.2760</td>\n",
       "      <td>0.614</td>\n",
       "      <td>Up</td>\n",
       "    </tr>\n",
       "    <tr>\n",
       "      <th>5</th>\n",
       "      <td>2001</td>\n",
       "      <td>0.614</td>\n",
       "      <td>-0.623</td>\n",
       "      <td>1.032</td>\n",
       "      <td>0.959</td>\n",
       "      <td>0.381</td>\n",
       "      <td>1.2057</td>\n",
       "      <td>0.213</td>\n",
       "      <td>Up</td>\n",
       "    </tr>\n",
       "  </tbody>\n",
       "</table>\n",
       "</div>"
      ],
      "text/plain": [
       "   Year   Lag1   Lag2   Lag3   Lag4   Lag5  Volume  Today Direction\n",
       "1  2001  0.381 -0.192 -2.624 -1.055  5.010  1.1913  0.959        Up\n",
       "2  2001  0.959  0.381 -0.192 -2.624 -1.055  1.2965  1.032        Up\n",
       "3  2001  1.032  0.959  0.381 -0.192 -2.624  1.4112 -0.623      Down\n",
       "4  2001 -0.623  1.032  0.959  0.381 -0.192  1.2760  0.614        Up\n",
       "5  2001  0.614 -0.623  1.032  0.959  0.381  1.2057  0.213        Up"
      ]
     },
     "execution_count": 2,
     "metadata": {},
     "output_type": "execute_result"
    }
   ],
   "source": [
    "file = 'https://raw.githubusercontent.com/JWarmenhoven/ISLR-python/master/Notebooks/Data/Smarket.csv'\n",
    "smarket = pd.read_csv(file, sep = ',', header = 0, index_col = 0)\n",
    "smarket.head()"
   ]
  },
  {
   "cell_type": "code",
   "execution_count": 3,
   "metadata": {},
   "outputs": [
    {
     "name": "stdout",
     "output_type": "stream",
     "text": [
      "(1250, 3)\n",
      "(1250,)\n"
     ]
    }
   ],
   "source": [
    "X = smarket[['Lag1', 'Lag2', 'Volume']].to_numpy()\n",
    "# y = {1, -1} for {Up, Down}\n",
    "y = smarket['Direction'].apply(lambda x: 1 if (x == 'Up') else -1).to_numpy()\n",
    "print(X.shape)\n",
    "print(y.shape)\n",
    "X_train_us, X_test_us, y_train, y_test = train_test_split(X, y, test_size = 0.2, random_state = 10)"
   ]
  },
  {
   "cell_type": "code",
   "execution_count": 4,
   "metadata": {},
   "outputs": [],
   "source": [
    "# Standardize train and test sets on training data\n",
    "X_ss = StandardScaler().fit(X_train_us)\n",
    "X_train = X_ss.transform(X_train_us)\n",
    "X_test = X_ss.transform(X_test_us)"
   ]
  },
  {
   "cell_type": "code",
   "execution_count": 5,
   "metadata": {},
   "outputs": [],
   "source": [
    "def computegrad(beta, X, y, lambda_):\n",
    "    \"\"\"\n",
    "    Returns the gradient for regularized logistic regression.\n",
    "    \n",
    "    Parameters\n",
    "    ----------\n",
    "    beta : 1D array\n",
    "        A numpy array with shape 1 x d\n",
    "    X : ndarray\n",
    "        A numpy array of standardized feature variables with shape n x d\n",
    "    y : 1D array\n",
    "        A numpy array of standardized response variables with shape 1 x n\n",
    "    lambda_ : float\n",
    "        Regularization parameter\n",
    "    \n",
    "    Returns\n",
    "    -------\n",
    "    grad : 1D array\n",
    "        A numpy array of the gradient with the given X, y, and lambda with shape 1 x d\n",
    "    \"\"\"\n",
    "    n = X.shape[0]\n",
    "    e_ = np.exp(np.multiply(-y, X @ beta))\n",
    "#     q = e_ / (e_ + 1)\n",
    "#     Q = np.diag(q)\n",
    "    Q = np.diag(e_ / (e_ + 1))\n",
    "#     print(Q)\n",
    "#     Debugging print statements\n",
    "#     print(\"n: \", n)\n",
    "#     print(\"x_tb: \", x_tb.shape)\n",
    "#     print(\"e_: \", e_.shape)\n",
    "#     print(\"numerator: \", (-y @ X).shape)\n",
    "    return (-1/n) * (X.T @ Q @ y)  + 2 * lambda_ * beta"
   ]
  },
  {
   "cell_type": "code",
   "execution_count": 6,
   "metadata": {},
   "outputs": [],
   "source": [
    "def computeobj(beta, X, y, lambda_):\n",
    "    \"\"\"\n",
    "    Returns the gradient for regularized logistic regression.\n",
    "    \n",
    "    Parameters\n",
    "    ----------\n",
    "    beta : 1D array\n",
    "        A numpy array with shape 1 x d\n",
    "    X : ndarray\n",
    "        A numpy array of standardized feature variables with shape n x d\n",
    "    y : 1D array\n",
    "        A numpy array of standardized response variables with shape 1 x n\n",
    "    lambda_ : float\n",
    "        Regularization parameter\n",
    "    \n",
    "    Returns\n",
    "    -------\n",
    "    obj : float\n",
    "        Value of the objective function evaluated with the given parameters\n",
    "    \"\"\"\n",
    "    n = X.shape[0]\n",
    "    e_ = np.exp(np.multiply(-y, X @ beta))\n",
    "    return (1/n) * np.sum(np.log(1 + e_)) + lambda_ * np.linalg.norm(beta)**2"
   ]
  },
  {
   "cell_type": "code",
   "execution_count": 7,
   "metadata": {},
   "outputs": [],
   "source": [
    "def backtracking(eta_init, decay_rate, prop, p, beta, *args):\n",
    "    \"\"\"\n",
    "    Returns the optimal eta for fast gradient descent.\n",
    "    \n",
    "    Parameters\n",
    "    ----------\n",
    "    eta_init : float\n",
    "    decay_rate : float\n",
    "        The rate at which eta will decay for search\n",
    "    prop : float\n",
    "        Constant for proportionality between descent and directional derivative\n",
    "    p : 1D array\n",
    "        A numpy array with shape 1 x d representing the direction\n",
    "    beta : 1D array\n",
    "        A numpy array with shape 1 x d\n",
    "    *args : X, y, lambda_\n",
    "    \n",
    "    Returns\n",
    "    -------\n",
    "    eta : float\n",
    "        Optimal size of eta for fast gradient descent\n",
    "    \"\"\"\n",
    "    eta = eta_init\n",
    "    \n",
    "    def decrease_condition(eta):\n",
    "        \"\"\"\n",
    "        Compute if the difference in objective functions evaluated with new vs. old beta\n",
    "        is less than ???\n",
    "        \"\"\"\n",
    "        left = computeobj(beta + eta * p, *args) - computeobj(beta, *args)\n",
    "        right = eta * prop * np.dot(computegrad(beta, *args), p)\n",
    "        return left <= right\n",
    "    \n",
    "    while not decrease_condition(eta):\n",
    "        eta *= decay_rate\n",
    "    \n",
    "    return eta"
   ]
  },
  {
   "cell_type": "code",
   "execution_count": 8,
   "metadata": {},
   "outputs": [],
   "source": [
    "def graddescent(tolerance, eta_init, decay_rate, prop, beta_init, *args):\n",
    "    \"\"\"\n",
    "    Returns the optimal eta for fast gradient descent.\n",
    "    \n",
    "    Parameters\n",
    "    ----------\n",
    "    tolerance: float\n",
    "        A total error tolerance\n",
    "    eta_init : float\n",
    "    decay_rate : float\n",
    "        The rate at which eta will decay for search\n",
    "    prop : float\n",
    "        Constant for proportionality between descent and directional derivative\n",
    "    beta_init : 1D array\n",
    "        A numpy array with shape 1 x d\n",
    "    *args : X, y, lambda_\n",
    "    \n",
    "    Returns\n",
    "    -------\n",
    "    iterations : list\n",
    "        List of betas with most optimal beta being at [-1] index\n",
    "    \"\"\"\n",
    "    iterations = [beta_init]\n",
    "    grad = computegrad(beta_init, *args)\n",
    "    beta = beta_init\n",
    "    \n",
    "    while np.linalg.norm(grad) > tolerance:\n",
    "        p = -grad\n",
    "        eta = backtracking(eta_init, decay_rate, prop, p, beta, *args)\n",
    "        beta = beta - eta * computegrad(beta, *args)\n",
    "        grad = computegrad(beta, *args)\n",
    "        iterations.append(beta)\n",
    "    \n",
    "    return iterations"
   ]
  },
  {
   "cell_type": "code",
   "execution_count": 9,
   "metadata": {},
   "outputs": [],
   "source": [
    "def fastgradalgo(tolerance, eta_init, decay_rate, prop, X, y, lambda_):\n",
    "    \"\"\"\n",
    "    Returns the optimal eta for fast gradient descent.\n",
    "    \n",
    "    Parameters\n",
    "    ----------\n",
    "    tolerance: float\n",
    "        A total error tolerance\n",
    "    eta_init : float\n",
    "    decay_rate : float\n",
    "        The rate at which eta will decay for search\n",
    "    prop : float\n",
    "        Constant for proportionality between descent and directional derivative\n",
    "    num_features : int\n",
    "        Number of features in data set\n",
    "    *args : X, y, lambda_\n",
    "    \n",
    "    Returns\n",
    "    -------\n",
    "    iterations : list\n",
    "        List of betas with most optimal beta being at [-1] index\n",
    "    \"\"\"\n",
    "    beta = np.zeros(X.shape[1])\n",
    "    theta = np.zeros(X.shape[1])\n",
    "    iterations = [beta]\n",
    "    grad = computegrad(beta, X, y, lambda_)\n",
    "    t = 0\n",
    "    \n",
    "    while np.linalg.norm(grad) > tolerance:\n",
    "        p = -grad\n",
    "        eta = backtracking(eta_init, decay_rate, prop, p, beta, X, y, lambda_)\n",
    "        beta_t = theta - eta * computegrad(theta, X, y, lambda_)\n",
    "        theta = beta_t + (t / (t + 3)) * (beta_t - beta)\n",
    "        grad = computegrad(beta_t, X, y, lambda_)\n",
    "        beta = beta_t\n",
    "        t += 1\n",
    "        iterations.append(beta)\n",
    "    \n",
    "    return iterations"
   ]
  },
  {
   "cell_type": "code",
   "execution_count": 10,
   "metadata": {},
   "outputs": [],
   "source": [
    "import matplotlib.pyplot as plt"
   ]
  },
  {
   "cell_type": "code",
   "execution_count": 11,
   "metadata": {},
   "outputs": [],
   "source": [
    "# Initialize parameters\n",
    "eta_init = 0.1\n",
    "error = 1e-5\n",
    "lambda_ = 0.5\n",
    "decay_rate = 0.9\n",
    "prop = 0.9\n",
    "beta_init = np.zeros(X.shape[1])"
   ]
  },
  {
   "cell_type": "code",
   "execution_count": 12,
   "metadata": {},
   "outputs": [],
   "source": [
    "grad_descent = graddescent(error, eta_init, decay_rate, prop, beta_init, X_train, y_train, lambda_)\n",
    "f_slow = [computeobj(b, X_train, y_train, lambda_) for b in grad_descent]\n",
    "fast_grad_descent = fastgradalgo(error, eta_init, decay_rate, prop, X_train, y_train, lambda_)\n",
    "f_fast = [computeobj(b, X_train, y_train, lambda_) for b in fast_grad_descent]"
   ]
  },
  {
   "cell_type": "code",
   "execution_count": 13,
   "metadata": {},
   "outputs": [
    {
     "data": {
      "text/plain": [
       "<matplotlib.legend.Legend at 0x7fb3b1ab9e80>"
      ]
     },
     "execution_count": 13,
     "metadata": {},
     "output_type": "execute_result"
    },
    {
     "data": {
      "image/png": "[encoded data removed]",
      "text/plain": [
       "<Figure size 432x288 with 1 Axes>"
      ]
     },
     "metadata": {
      "needs_background": "light"
     },
     "output_type": "display_data"
    }
   ],
   "source": [
    "plt.plot(f_slow, c = 'cornflowerblue')\n",
    "plt.plot(f_fast, c = 'chocolate')\n",
    "plt.title('Objective Function vs. iterations')\n",
    "plt.xlabel('t')\n",
    "plt.ylabel('F(B)')\n",
    "plt.legend(['Grad desc', 'Fast grad desc'])"
   ]
  },
  {
   "cell_type": "markdown",
   "metadata": {},
   "source": [
    "`sklearn`'s Regularized Logistic Regression minimizes the function\n",
    "$$ \\begin{equation}\n",
    "F(\\beta) = \\frac{1}{2} \\beta^{T} \\beta + C \\sum_{i = 1}^{n} log(-y_{i}(X_{i}^T \\beta + c)+1)\n",
    "\\end{equation}$$\n",
    "\n",
    "The $C$ hyperparameter corresponds with $\\lambda = \\frac{1}{2nC}$, or $C = 2n\\lambda$"
   ]
  },
  {
   "cell_type": "code",
   "execution_count": 14,
   "metadata": {},
   "outputs": [],
   "source": [
    "lambda_ = 0.5\n",
    "n = X_train.shape[0]\n",
    "c = lambda_ * n * 2\n",
    "b_t = fast_grad_descent[-1]\n",
    "sk_logistic = LogisticRegression(penalty = 'l2',\n",
    "                                 tol = error,\n",
    "                                 C = c,\n",
    "                                 fit_intercept = False).fit(X_train, y_train)\n",
    "b_star = sk_logistic.coef_.ravel()"
   ]
  },
  {
   "cell_type": "code",
   "execution_count": 15,
   "metadata": {},
   "outputs": [
    {
     "name": "stdout",
     "output_type": "stream",
     "text": [
      "Beta_T - Beta*:  [ 0.02392925  0.06045062 -0.063496  ]\n",
      "F(B_T):  0.6928272154193231\n",
      "F(B*):  0.6979854142612469\n"
     ]
    }
   ],
   "source": [
    "print('Beta_T - Beta*: ', (b_t - b_star))\n",
    "f_t = computeobj(b_t, X_train, y_train, lambda_)\n",
    "f_star = computeobj(b_star, X_train, y_train, lambda_)\n",
    "print(\"F(B_T): \", f_t)\n",
    "print(\"F(B*): \", f_star)"
   ]
  },
  {
   "cell_type": "markdown",
   "metadata": {},
   "source": [
    "`sklearn`'s implementation produced a similar objective function value compared to my implementation of fast gradient descent."
   ]
  },
  {
   "cell_type": "code",
   "execution_count": 16,
   "metadata": {},
   "outputs": [
    {
     "data": {
      "text/plain": [
       "0.046415888336127774"
      ]
     },
     "execution_count": 16,
     "metadata": {},
     "output_type": "execute_result"
    }
   ],
   "source": [
    "log_cv = LogisticRegressionCV(penalty = 'l2').fit(X_train, y_train).C_\n",
    "opt_lambda = log_cv[0] / (2 * n)\n",
    "log_cv[0]"
   ]
  },
  {
   "cell_type": "code",
   "execution_count": 17,
   "metadata": {},
   "outputs": [
    {
     "data": {
      "text/plain": [
       "<matplotlib.legend.Legend at 0x7fb3b1227c10>"
      ]
     },
     "execution_count": 17,
     "metadata": {},
     "output_type": "execute_result"
    },
    {
     "data": {
      "image/png": "[encoded data removed]",
      "text/plain": [
       "<Figure size 432x288 with 1 Axes>"
      ]
     },
     "metadata": {
      "needs_background": "light"
     },
     "output_type": "display_data"
    }
   ],
   "source": [
    "# Initialize parameters\n",
    "eta_init = 0.1\n",
    "error = 1e-5\n",
    "decay_rate = 0.8\n",
    "prop = 0.3\n",
    "beta_init = np.zeros(X.shape[1])\n",
    "\n",
    "grad_descent = graddescent(error, eta_init, decay_rate, prop, beta_init, X_train, y_train, opt_lambda)\n",
    "f_slow = [computeobj(b, X_train, y_train, opt_lambda) for b in grad_descent]\n",
    "fast_grad_descent = fastgradalgo(error, eta_init, decay_rate, prop, X_train, y_train, opt_lambda)\n",
    "f_fast = [computeobj(b, X_train, y_train, opt_lambda) for b in fast_grad_descent]\n",
    "\n",
    "plt.plot(f_slow, c = 'teal')\n",
    "plt.plot(f_fast, c = 'chocolate')\n",
    "plt.title('Objective Function vs. iterations')\n",
    "plt.xlabel('t')\n",
    "plt.ylabel('F(B)')\n",
    "plt.legend(['Grad desc', 'Fast grad desc'])"
   ]
  },
  {
   "cell_type": "code",
   "execution_count": 18,
   "metadata": {},
   "outputs": [],
   "source": [
    "def misclass_rate(beta, X, y):\n",
    "    \"\"\"\n",
    "    Returns the optimal eta for fast gradient descent.\n",
    "    \n",
    "    Parameters\n",
    "    ----------\n",
    "    beta : 1D array\n",
    "        A 1xd numpy array\n",
    "    X : ndarray\n",
    "        A n x d numpy array of feature data\n",
    "    y : 1D array\n",
    "        A 1 x n numpy array of correct response data\n",
    "    \n",
    "    Returns\n",
    "    -------\n",
    "    misclass : float\n",
    "        Misclassification rate\n",
    "    \"\"\"\n",
    "    prob = np.exp(np.dot(X, beta)) / (np.exp(np.dot(X, beta)) + 1)\n",
    "    prediction = np.zeros(len(prob))\n",
    "\n",
    "    for i in range(len(prob)):\n",
    "        if prob[i] >= 0.5:\n",
    "            prediction[i] = 1\n",
    "        else:\n",
    "            prediction[i] = -1\n",
    "    \n",
    "    return np.mean(prediction != y)"
   ]
  },
  {
   "cell_type": "code",
   "execution_count": 19,
   "metadata": {},
   "outputs": [],
   "source": [
    "misclass_slow = [misclass_rate(b, X_train, y_train) for b in grad_descent]\n",
    "misclass_fast = [misclass_rate(b, X_train, y_train) for b in fast_grad_descent]"
   ]
  },
  {
   "cell_type": "code",
   "execution_count": 20,
   "metadata": {},
   "outputs": [
    {
     "data": {
      "text/plain": [
       "<matplotlib.legend.Legend at 0x7fb3b113f7c0>"
      ]
     },
     "execution_count": 20,
     "metadata": {},
     "output_type": "execute_result"
    },
    {
     "data": {
      "image/png": "[encoded data removed]",
      "text/plain": [
       "<Figure size 432x288 with 1 Axes>"
      ]
     },
     "metadata": {
      "needs_background": "light"
     },
     "output_type": "display_data"
    }
   ],
   "source": [
    "plt.plot(misclass_slow, c = 'teal')\n",
    "plt.plot(misclass_fast, c = 'chocolate')\n",
    "plt.title('Misclassification Rate vs. iterations')\n",
    "plt.xlabel('t')\n",
    "plt.ylabel('Misclass rate')\n",
    "plt.legend(['Grad desc', 'Fast grad desc'])"
   ]
  },
  {
   "cell_type": "code",
   "execution_count": 21,
   "metadata": {},
   "outputs": [
    {
     "data": {
      "text/plain": [
       "<matplotlib.legend.Legend at 0x7fb3b1096850>"
      ]
     },
     "execution_count": 21,
     "metadata": {},
     "output_type": "execute_result"
    },
    {
     "data": {
      "image/png": "[encoded data removed]",
      "text/plain": [
       "<Figure size 432x288 with 1 Axes>"
      ]
     },
     "metadata": {
      "needs_background": "light"
     },
     "output_type": "display_data"
    }
   ],
   "source": [
    "misclass_slow = [misclass_rate(b, X_test, y_test) for b in grad_descent]\n",
    "misclass_fast = [misclass_rate(b, X_test, y_test) for b in fast_grad_descent]\n",
    "\n",
    "plt.plot(misclass_slow, c = 'teal')\n",
    "plt.plot(misclass_fast, c = 'chocolate')\n",
    "plt.title('Misclassification Rate vs. iterations')\n",
    "plt.xlabel('t')\n",
    "plt.ylabel('Misclass rate')\n",
    "plt.legend(['Grad desc', 'Fast grad desc'])"
   ]
  }
 ],
 "metadata": {
  "kernelspec": {
   "display_name": "Python 3",
   "language": "python",
   "name": "python3"
  },
  "language_info": {
   "codemirror_mode": {
    "name": "ipython",
    "version": 3
   },
   "file_extension": ".py",
   "mimetype": "text/x-python",
   "name": "python",
   "nbconvert_exporter": "python",
   "pygments_lexer": "ipython3",
   "version": "3.8.5"
  }
 },
 "nbformat": 4,
 "nbformat_minor": 5
}
