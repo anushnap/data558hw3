{
 "cells": [
  {
   "cell_type": "markdown",
   "metadata": {},
   "source": [
    "# 558 Homework 3\n",
    "#### Anushna Prakash\n",
    "#### April 25, 2021"
   ]
  },
  {
   "cell_type": "markdown",
   "metadata": {},
   "source": [
    "$$\\begin{equation}\n",
    "F(\\beta) = \\frac{1}{n} \\sum_{i=1}^n log(1 + e^{-y_i x_i^T \\beta}) + \\lambda ||\\beta||_2^2\n",
    "\\end{equation}\n",
    "$$"
   ]
  },
  {
   "cell_type": "markdown",
   "metadata": {},
   "source": [
    "Assume the case where $n=1$ and $d=1$. Then:\n",
    "$$\n",
    "F(\\beta) = log(1 + e^{-y_{i} x_{i}^T \\beta}) + \\lambda \\beta^2\n",
    "\\\\ \\nabla F(\\beta) = \\frac{-yx e^{-yx\\beta}}{1 + e^{-yx \\beta}} + 2\\lambda \\beta\n",
    "$$\n",
    "\n",
    "Now assuming the case where $n>1$ and $d>1$, and $y$ is $1xn$, $x$ is $dxn$ and $\\beta$ is $dx1$:\n",
    "$$\n",
    "\\nabla F(\\beta) = \\frac{1}{n} \\frac{-y^T x e^{-y x^T \\beta}}{1 + e^{-y x^T \\beta}} + 2 \\lambda \\beta \n",
    "$$"
   ]
  },
  {
   "cell_type": "code",
   "execution_count": 2,
   "metadata": {},
   "outputs": [],
   "source": [
    "import pandas as pd\n",
    "import numpy as np\n",
    "from sklearn.preprocessing import StandardScaler\n",
    "from sklearn.linear_model import LogisticRegression, LogisticRegressionCV\n",
    "from sklearn.model_selection import train_test_split"
   ]
  },
  {
   "cell_type": "code",
   "execution_count": 3,
   "metadata": {},
   "outputs": [
    {
     "data": {
      "text/html": [
       "<div>\n",
       "<style scoped>\n",
       "    .dataframe tbody tr th:only-of-type {\n",
       "        vertical-align: middle;\n",
       "    }\n",
       "\n",
       "    .dataframe tbody tr th {\n",
       "        vertical-align: top;\n",
       "    }\n",
       "\n",
       "    .dataframe thead th {\n",
       "        text-align: right;\n",
       "    }\n",
       "</style>\n",
       "<table border=\"1\" class=\"dataframe\">\n",
       "  <thead>\n",
       "    <tr style=\"text-align: right;\">\n",
       "      <th></th>\n",
       "      <th>Year</th>\n",
       "      <th>Lag1</th>\n",
       "      <th>Lag2</th>\n",
       "      <th>Lag3</th>\n",
       "      <th>Lag4</th>\n",
       "      <th>Lag5</th>\n",
       "      <th>Volume</th>\n",
       "      <th>Today</th>\n",
       "      <th>Direction</th>\n",
       "    </tr>\n",
       "  </thead>\n",
       "  <tbody>\n",
       "    <tr>\n",
       "      <th>1</th>\n",
       "      <td>2001</td>\n",
       "      <td>0.381</td>\n",
       "      <td>-0.192</td>\n",
       "      <td>-2.624</td>\n",
       "      <td>-1.055</td>\n",
       "      <td>5.010</td>\n",
       "      <td>1.1913</td>\n",
       "      <td>0.959</td>\n",
       "      <td>Up</td>\n",
       "    </tr>\n",
       "    <tr>\n",
       "      <th>2</th>\n",
       "      <td>2001</td>\n",
       "      <td>0.959</td>\n",
       "      <td>0.381</td>\n",
       "      <td>-0.192</td>\n",
       "      <td>-2.624</td>\n",
       "      <td>-1.055</td>\n",
       "      <td>1.2965</td>\n",
       "      <td>1.032</td>\n",
       "      <td>Up</td>\n",
       "    </tr>\n",
       "    <tr>\n",
       "      <th>3</th>\n",
       "      <td>2001</td>\n",
       "      <td>1.032</td>\n",
       "      <td>0.959</td>\n",
       "      <td>0.381</td>\n",
       "      <td>-0.192</td>\n",
       "      <td>-2.624</td>\n",
       "      <td>1.4112</td>\n",
       "      <td>-0.623</td>\n",
       "      <td>Down</td>\n",
       "    </tr>\n",
       "    <tr>\n",
       "      <th>4</th>\n",
       "      <td>2001</td>\n",
       "      <td>-0.623</td>\n",
       "      <td>1.032</td>\n",
       "      <td>0.959</td>\n",
       "      <td>0.381</td>\n",
       "      <td>-0.192</td>\n",
       "      <td>1.2760</td>\n",
       "      <td>0.614</td>\n",
       "      <td>Up</td>\n",
       "    </tr>\n",
       "    <tr>\n",
       "      <th>5</th>\n",
       "      <td>2001</td>\n",
       "      <td>0.614</td>\n",
       "      <td>-0.623</td>\n",
       "      <td>1.032</td>\n",
       "      <td>0.959</td>\n",
       "      <td>0.381</td>\n",
       "      <td>1.2057</td>\n",
       "      <td>0.213</td>\n",
       "      <td>Up</td>\n",
       "    </tr>\n",
       "  </tbody>\n",
       "</table>\n",
       "</div>"
      ],
      "text/plain": [
       "   Year   Lag1   Lag2   Lag3   Lag4   Lag5  Volume  Today Direction\n",
       "1  2001  0.381 -0.192 -2.624 -1.055  5.010  1.1913  0.959        Up\n",
       "2  2001  0.959  0.381 -0.192 -2.624 -1.055  1.2965  1.032        Up\n",
       "3  2001  1.032  0.959  0.381 -0.192 -2.624  1.4112 -0.623      Down\n",
       "4  2001 -0.623  1.032  0.959  0.381 -0.192  1.2760  0.614        Up\n",
       "5  2001  0.614 -0.623  1.032  0.959  0.381  1.2057  0.213        Up"
      ]
     },
     "execution_count": 3,
     "metadata": {},
     "output_type": "execute_result"
    }
   ],
   "source": [
    "file = 'https://raw.githubusercontent.com/JWarmenhoven/ISLR-python/master/Notebooks/Data/Smarket.csv'\n",
    "smarket = pd.read_csv(file, sep = ',', header = 0, index_col = 0)\n",
    "smarket.head()"
   ]
  },
  {
   "cell_type": "code",
   "execution_count": 30,
   "metadata": {},
   "outputs": [
    {
     "name": "stdout",
     "output_type": "stream",
     "text": [
      "(1250, 3)\n",
      "(1250,)\n"
     ]
    }
   ],
   "source": [
    "X = smarket[['Lag1', 'Lag2', 'Volume']].to_numpy()\n",
    "# y = {1, -1} for {Up, Down}\n",
    "y = smarket['Direction'].apply(lambda x: 1 if (x == 'Up') else -1).to_numpy()\n",
    "print(X.shape)\n",
    "print(y.shape)\n",
    "X_train_us, X_test_us, y_train, y_test = train_test_split(X, y, test_size = 0.2, random_state = 30)"
   ]
  },
  {
   "cell_type": "code",
   "execution_count": 31,
   "metadata": {},
   "outputs": [],
   "source": [
    "# Standardize train and test sets on training data\n",
    "X_ss = StandardScaler().fit(X_train_us)\n",
    "X_train = X_ss.transform(X_train_us)\n",
    "X_test = X_ss.transform(X_test_us)"
   ]
  },
  {
   "cell_type": "code",
   "execution_count": 51,
   "metadata": {},
   "outputs": [],
   "source": [
    "def computegrad(beta, X, y, lambda_):\n",
    "    \"\"\"\n",
    "    Returns the gradient for regularized logistic regression.\n",
    "    \n",
    "    Parameters\n",
    "    ----------\n",
    "    beta : 1D array\n",
    "        A numpy array with shape 1 x d\n",
    "    X : ndarray\n",
    "        A numpy array of standardized feature variables with shape n x d\n",
    "    y : 1D array\n",
    "        A numpy array of standardized response variables with shape 1 x n\n",
    "    lambda_ : float\n",
    "        Regularization parameter\n",
    "    \n",
    "    Returns\n",
    "    -------\n",
    "    grad : 1D array\n",
    "        A numpy array of the gradient with the given X, y, and lambda with shape 1 x d\n",
    "    \"\"\"\n",
    "    n = X.shape[0]\n",
    "    Q = np.diag(np.exp(np.multiply(-y, X @ beta)) / (np.exp(np.multiply(-y, X @ beta)) + 1))\n",
    "#     print(Q)\n",
    "#     Debugging print statements\n",
    "#     print(\"n: \", n)\n",
    "#     print(\"x_tb: \", x_tb.shape)\n",
    "#     print(\"e_: \", e_.shape)\n",
    "#     print(\"numerator: \", (-y @ X).shape)\n",
    "    return (-1/n) * (X.T @ Q @ y)  + 2 * lambda_ * beta"
   ]
  },
  {
   "cell_type": "code",
   "execution_count": 48,
   "metadata": {},
   "outputs": [
    {
     "name": "stdout",
     "output_type": "stream",
     "text": [
      "[[0.5406785  0.         0.         ... 0.         0.         0.        ]\n",
      " [0.         0.00988306 0.         ... 0.         0.         0.        ]\n",
      " [0.         0.         0.41342513 ... 0.         0.         0.        ]\n",
      " ...\n",
      " [0.         0.         0.         ... 0.35075992 0.         0.        ]\n",
      " [0.         0.         0.         ... 0.         0.12355645 0.        ]\n",
      " [0.         0.         0.         ... 0.         0.         0.16387013]]\n"
     ]
    },
    {
     "data": {
      "text/plain": [
       "array([1.17269495, 1.16353943, 1.1437125 ])"
      ]
     },
     "execution_count": 48,
     "metadata": {},
     "output_type": "execute_result"
    }
   ],
   "source": [
    "lambda_ = 0.5\n",
    "beta = np.ones(X.shape[1])\n",
    "computegrad(beta, X_train, y_train, lambda_)"
   ]
  },
  {
   "cell_type": "code",
   "execution_count": 67,
   "metadata": {},
   "outputs": [],
   "source": [
    "def computeobj(beta, X, y, lambda_):\n",
    "    \"\"\"\n",
    "    Returns the gradient for regularized logistic regression.\n",
    "    \n",
    "    Parameters\n",
    "    ----------\n",
    "    beta : 1D array\n",
    "        A numpy array with shape 1 x d\n",
    "    X : ndarray\n",
    "        A numpy array of standardized feature variables with shape n x d\n",
    "    y : 1D array\n",
    "        A numpy array of standardized response variables with shape 1 x n\n",
    "    lambda_ : float\n",
    "        Regularization parameter\n",
    "    \n",
    "    Returns\n",
    "    -------\n",
    "    obj : float\n",
    "        Value of the objective function evaluated with the given parameters\n",
    "    \"\"\"\n",
    "    n = X.shape[1]\n",
    "    e_ = np.exp(-y @ X @ beta)\n",
    "    return (1/n) * np.sum(np.log(1 + e_)) + lambda_ * np.linalg.norm(beta)**2"
   ]
  },
  {
   "cell_type": "code",
   "execution_count": 9,
   "metadata": {},
   "outputs": [],
   "source": [
    "def backtracking(eta_init, decay_rate, prop, p, beta, *args):\n",
    "    \"\"\"\n",
    "    Returns the optimal eta for fast gradient descent.\n",
    "    \n",
    "    Parameters\n",
    "    ----------\n",
    "    eta_init : float\n",
    "    decay_rate : float\n",
    "        The rate at which eta will decay for search\n",
    "    prop : float\n",
    "        Constant for proportionality between descent and directional derivative\n",
    "    p : 1D array\n",
    "        A numpy array with shape 1 x d representing the direction\n",
    "    beta : 1D array\n",
    "        A numpy array with shape 1 x d\n",
    "    *args : X, y, lambda_\n",
    "    \n",
    "    Returns\n",
    "    -------\n",
    "    eta : float\n",
    "        Optimal size of eta for fast gradient descent\n",
    "    \"\"\"\n",
    "    eta = eta_init\n",
    "    \n",
    "    def decrease_condition(eta):\n",
    "        \"\"\"\n",
    "        Compute if the difference in objective functions evaluated with new vs. old beta\n",
    "        is less than ???\n",
    "        \"\"\"\n",
    "        left = computeobj(beta + eta * p, *args) - computeobj(beta, *args)\n",
    "        right = eta * prop * np.dot(computegrad(beta, *args), p)\n",
    "        return left <= right\n",
    "    \n",
    "    while not decrease_condition(eta):\n",
    "        eta *= decay_rate\n",
    "    \n",
    "    return eta"
   ]
  },
  {
   "cell_type": "code",
   "execution_count": 75,
   "metadata": {},
   "outputs": [],
   "source": [
    "def graddescent(tolerance, eta_init, decay_rate, prop, beta_init, *args):\n",
    "    \"\"\"\n",
    "    Returns the optimal eta for fast gradient descent.\n",
    "    \n",
    "    Parameters\n",
    "    ----------\n",
    "    tolerance: float\n",
    "        A total error tolerance\n",
    "    eta_init : float\n",
    "    decay_rate : float\n",
    "        The rate at which eta will decay for search\n",
    "    prop : float\n",
    "        Constant for proportionality between descent and directional derivative\n",
    "    beta_init : 1D array\n",
    "        A numpy array with shape 1 x d\n",
    "    *args : X, y, lambda_\n",
    "    \n",
    "    Returns\n",
    "    -------\n",
    "    iterations : list\n",
    "        List of betas with most optimal beta being at [-1] index\n",
    "    \"\"\"\n",
    "    iterations = [beta_init]\n",
    "    grad = computegrad(beta_init, *args)\n",
    "    beta = beta_init\n",
    "    \n",
    "    while np.linalg.norm(grad) > tolerance:\n",
    "        p = -grad\n",
    "        eta = backtracking(eta_init, decay_rate, prop, p, beta, *args)\n",
    "        beta = beta - eta * computegrad(beta, *args)\n",
    "        grad = computegrad(beta, *args)\n",
    "        iterations.append(beta)\n",
    "    \n",
    "    return iterations"
   ]
  },
  {
   "cell_type": "code",
   "execution_count": 76,
   "metadata": {},
   "outputs": [],
   "source": [
    "def fastgradalgo(tolerance, eta_init, decay_rate, prop, X, y, lambda_):\n",
    "    \"\"\"\n",
    "    Returns the optimal eta for fast gradient descent.\n",
    "    \n",
    "    Parameters\n",
    "    ----------\n",
    "    tolerance: float\n",
    "        A total error tolerance\n",
    "    eta_init : float\n",
    "    decay_rate : float\n",
    "        The rate at which eta will decay for search\n",
    "    prop : float\n",
    "        Constant for proportionality between descent and directional derivative\n",
    "    num_features : int\n",
    "        Number of features in data set\n",
    "    *args : X, y, lambda_\n",
    "    \n",
    "    Returns\n",
    "    -------\n",
    "    iterations : list\n",
    "        List of betas with most optimal beta being at [-1] index\n",
    "    \"\"\"\n",
    "    beta = np.zeros(X.shape[1])\n",
    "    theta = np.zeros(X.shape[1])\n",
    "    iterations = [beta]\n",
    "    grad = computegrad(beta, X, y, lambda_)\n",
    "    t = 0\n",
    "    \n",
    "    while np.linalg.norm(grad) > tolerance:\n",
    "        p = -grad\n",
    "        eta = backtracking(eta_init, decay_rate, prop, p, beta, X, y, lambda_)\n",
    "        beta_t = theta - eta * computegrad(theta, X, y, lambda_)\n",
    "        theta = beta_t + (t / (t + 3)) * (beta_t - beta)\n",
    "        grad = computegrad(beta_t, X, y, lambda_)\n",
    "        beta = beta_t\n",
    "        t += 1\n",
    "        iterations.append(beta)\n",
    "    \n",
    "    return iterations"
   ]
  },
  {
   "cell_type": "code",
   "execution_count": 12,
   "metadata": {},
   "outputs": [],
   "source": [
    "import matplotlib.pyplot as plt"
   ]
  },
  {
   "cell_type": "code",
   "execution_count": 61,
   "metadata": {},
   "outputs": [],
   "source": [
    "# Initialize parameters\n",
    "eta_init = 0.1\n",
    "error = 5e-4\n",
    "lambda_ = 0.5\n",
    "decay_rate = 0.8\n",
    "prop = 0.3\n",
    "beta_init = np.zeros(X.shape[1])"
   ]
  },
  {
   "cell_type": "code",
   "execution_count": 68,
   "metadata": {},
   "outputs": [
    {
     "name": "stdout",
     "output_type": "stream",
     "text": [
      "0.1\n",
      "0.1\n",
      "0.1\n",
      "0.1\n",
      "0.1\n",
      "0.1\n",
      "0.1\n",
      "0.1\n",
      "0.1\n",
      "0.1\n",
      "0.1\n",
      "0.1\n",
      "0.1\n",
      "0.1\n",
      "0.1\n",
      "0.1\n",
      "0.1\n",
      "0.1\n",
      "0.1\n",
      "0.1\n",
      "0.1\n",
      "0.1\n",
      "0.1\n",
      "0.1\n",
      "0.1\n",
      "0.1\n",
      "0.1\n",
      "0.1\n",
      "0.1\n",
      "0.1\n",
      "0.1\n",
      "0.1\n",
      "0.1\n",
      "0.1\n",
      "0.1\n",
      "0.1\n",
      "0.1\n",
      "0.1\n",
      "0.1\n",
      "0.1\n",
      "0.1\n",
      "0.1\n",
      "0.1\n"
     ]
    }
   ],
   "source": [
    "grad_descent = graddescent(error, eta_init, decay_rate, prop, beta_init, X_train, y_train, lambda_)\n",
    "f_slow = [computeobj(b, X_train, y_train, lambda_) for b in grad_descent]\n",
    "fast_grad_descent = fastgradalgo(error, eta_init, decay_rate, prop, X_train, y_train, lambda_)\n",
    "f_fast = [computeobj(b, X_train, y_train, lambda_) for b in fast_grad_descent]"
   ]
  },
  {
   "cell_type": "code",
   "execution_count": 69,
   "metadata": {},
   "outputs": [
    {
     "data": {
      "text/plain": [
       "<matplotlib.legend.Legend at 0x7f927ee10dc0>"
      ]
     },
     "execution_count": 69,
     "metadata": {},
     "output_type": "execute_result"
    },
    {
     "data": {
      "image/png": "[encoded data removed]",
      "text/plain": [
       "<Figure size 432x288 with 1 Axes>"
      ]
     },
     "metadata": {
      "needs_background": "light"
     },
     "output_type": "display_data"
    }
   ],
   "source": [
    "plt.plot(f_slow, c = 'cornflowerblue')\n",
    "plt.plot(f_fast, c = 'chocolate')\n",
    "plt.title('Objective Function vs. iterations')\n",
    "plt.xlabel('t')\n",
    "plt.ylabel('F(B)')\n",
    "plt.legend(['Grad desc', 'Fast grad desc'])"
   ]
  },
  {
   "cell_type": "code",
   "execution_count": 26,
   "metadata": {},
   "outputs": [
    {
     "name": "stdout",
     "output_type": "stream",
     "text": [
      "[0.50231662 0.49971992 0.50416111 0.50200638 0.50020508 0.49761474\n",
      " 0.49835881 0.49810419 0.49653875 0.50296801 0.49416889 0.50506976\n",
      " 0.50095118 0.49953436 0.50309495 0.49728731 0.49949219 0.49551254\n",
      " 0.50021329 0.49913095 0.49985537 0.50151999 0.49935607 0.49830283\n",
      " 0.49246933 0.50129432 0.49952237 0.50191246 0.49010663 0.51861057\n",
      " 0.49804669 0.49906276 0.49541947 0.49269057 0.49966277 0.49714455\n",
      " 0.49917924 0.50176714 0.49859674 0.49816373 0.50342986 0.50321184\n",
      " 0.5035645  0.49727156 0.49578551 0.50654641 0.50006688 0.49883012\n",
      " 0.49435391 0.50133565 0.49644823 0.50422306 0.50257153 0.50120821\n",
      " 0.4982109  0.50017202 0.50125193 0.49950071 0.49741022 0.49728228\n",
      " 0.50471706 0.49969585 0.4889414  0.49895115 0.50685885 0.49660201\n",
      " 0.50407824 0.49865978 0.50190959 0.50266198 0.5003767  0.50209877\n",
      " 0.49948596 0.50153263 0.50241216 0.49306694 0.49617085 0.49862444\n",
      " 0.50345969 0.49021462 0.50168358 0.49552801 0.50293986 0.49635767\n",
      " 0.48504803 0.49990285 0.50024077 0.50525631 0.49619076 0.4930627\n",
      " 0.4949782  0.49179908 0.49746428 0.50004054 0.49908299 0.50022157\n",
      " 0.50061518 0.49655503 0.4912915  0.4975657  0.49719006 0.49533226\n",
      " 0.49743551 0.49963455 0.50013828 0.49683744 0.499136   0.49835994\n",
      " 0.50037321 0.49742369 0.50223788 0.4999904  0.49905115 0.49652399\n",
      " 0.50071701 0.49990976 0.50299806 0.49692335 0.5037523  0.4976279\n",
      " 0.50120192 0.50191624 0.50492572 0.49643334 0.500992   0.50834385\n",
      " 0.50153299 0.49555517 0.50435982 0.5029571  0.50111204 0.49756834\n",
      " 0.49989297 0.49966154 0.50001497 0.50078951 0.50106408 0.49910771\n",
      " 0.49976157 0.50089744 0.500349   0.49898865 0.50468849 0.4974468\n",
      " 0.49675017 0.49698718 0.49789439 0.50108079 0.4948558  0.5003177\n",
      " 0.49754355 0.50027682 0.49818993 0.50305506 0.50319091 0.49874377\n",
      " 0.49802422 0.50019065 0.50395619 0.50532887 0.50330474 0.49881249\n",
      " 0.49831372 0.50232686 0.5010925  0.49918606 0.49826377 0.50225513\n",
      " 0.49988971 0.49766758 0.4980585  0.50322802 0.50157366 0.4945637\n",
      " 0.49998241 0.49958819 0.50364939 0.50020149 0.49512993 0.49809813\n",
      " 0.49668904 0.4959273  0.50038504 0.49968794 0.50005726 0.50367608\n",
      " 0.5043071  0.50123204 0.50134293 0.49531803 0.49876821 0.49940625\n",
      " 0.49950908 0.49680596 0.50294849 0.49998907 0.50113767 0.50111837\n",
      " 0.49885586 0.50089836 0.49368806 0.49651244 0.49801544 0.49871188\n",
      " 0.50281    0.49971737 0.49617352 0.49730251 0.50042191 0.50200156\n",
      " 0.49772026 0.49601339 0.50526878 0.49948861 0.49992291 0.50020709\n",
      " 0.48898932 0.5023245  0.50275721 0.49962704 0.50342174 0.50167574\n",
      " 0.50095126 0.49697785 0.50003227 0.50126012 0.49897383 0.49457121\n",
      " 0.49856352 0.49941231 0.49206141 0.50078026 0.49882527 0.49923601\n",
      " 0.50418229 0.4983339  0.49897446 0.50001175 0.50464765 0.50044108\n",
      " 0.5056466  0.49569669 0.49948267 0.50036819 0.50015169 0.50790427\n",
      " 0.50062507 0.49444931 0.50296464 0.50343731 0.49696775 0.49954984\n",
      " 0.49876495 0.50422647 0.50242488 0.49968774 0.50256473 0.5006587\n",
      " 0.49892227 0.50001931 0.50051746 0.49678042 0.49692503 0.50425635\n",
      " 0.49867064 0.4996248  0.49779767 0.49605113 0.4983605  0.50026741\n",
      " 0.49441846 0.50658588 0.50816078 0.49850978 0.50075346 0.49745682\n",
      " 0.50509548 0.50143986 0.49723627 0.49895985 0.50080614 0.49993012\n",
      " 0.49708295 0.49342937 0.4994836  0.49949276 0.5027523  0.50073051\n",
      " 0.50722062 0.51681949 0.49737738 0.5042601  0.4942003  0.50537437\n",
      " 0.49620767 0.50730193 0.49500709 0.50281557 0.49229203 0.49754166\n",
      " 0.49695312 0.5016529  0.50226864 0.49663595 0.49693757 0.50106974\n",
      " 0.49986793 0.50565785 0.50509424 0.50063624 0.50340463 0.50563233\n",
      " 0.49640979 0.51256454 0.5007266  0.50442835 0.5011554  0.50288085\n",
      " 0.50610351 0.49568154 0.50181359 0.50119808 0.49434578 0.50075127\n",
      " 0.49697549 0.50668649 0.50885501 0.50414505 0.50020379 0.50007237\n",
      " 0.49962937 0.49048028 0.49750388 0.51898453 0.50781468 0.49778788\n",
      " 0.50100307 0.50000028 0.49840268 0.50676791 0.49892509 0.51429774\n",
      " 0.49767725 0.4981536  0.49530261 0.49891007 0.50125939 0.49670547\n",
      " 0.50218495 0.4976781  0.49979304 0.50353402 0.49926287 0.49475522\n",
      " 0.49900353 0.50171658 0.50077319 0.50047421 0.49762217 0.49669274\n",
      " 0.50092552 0.50179168 0.50502085 0.50582207 0.50069802 0.4982427\n",
      " 0.49623159 0.50578424 0.5030888  0.50468821 0.49765379 0.49935543\n",
      " 0.50310307 0.49732435 0.49608946 0.49177627 0.50353783 0.5011358\n",
      " 0.49842073 0.48496827 0.49839917 0.49581051 0.49743717 0.50698348\n",
      " 0.49556999 0.50315519 0.50113401 0.50127589 0.50251723 0.50255498\n",
      " 0.5039318  0.50129354 0.50524356 0.49901749 0.49944723 0.50404654\n",
      " 0.51241787 0.50151665 0.49836289 0.50098359 0.50247451 0.49643187\n",
      " 0.49849024 0.49930725 0.49883797 0.50548824 0.49848129 0.49902062\n",
      " 0.49923673 0.50143328 0.50359334 0.50064121 0.50183729 0.50061129\n",
      " 0.50336614 0.50093655 0.49988924 0.49978756 0.50210911 0.49616822\n",
      " 0.50606839 0.49903549 0.49643666 0.50534461 0.50601382 0.50223105\n",
      " 0.49967185 0.49654286 0.49741495 0.50303983 0.50735753 0.50069603\n",
      " 0.49524424 0.5006152  0.50032787 0.49596583 0.50200471 0.50176975\n",
      " 0.49944041 0.50109611 0.49550045 0.50107065 0.49600751 0.49543718\n",
      " 0.49806088 0.49965824 0.49525635 0.49958705 0.5003832  0.49307174\n",
      " 0.50217572 0.49280337 0.49560217 0.50051262 0.50331864 0.49094448\n",
      " 0.49869753 0.49868403 0.50546697 0.51262463 0.5002714  0.50015006\n",
      " 0.50263745 0.50111478 0.4960039  0.49834767 0.49675003 0.49774917\n",
      " 0.50414362 0.49739682 0.49807893 0.48882693 0.50020949 0.49820513\n",
      " 0.49618317 0.50374145 0.49796856 0.4958354  0.50106176 0.50319532\n",
      " 0.49940031 0.50528541 0.50290043 0.50771836 0.49946505 0.49479462\n",
      " 0.49780738 0.49981174 0.50237826 0.49617234 0.50031951 0.49313523\n",
      " 0.50228493 0.49475025 0.49514829 0.49659654 0.50293366 0.50038618\n",
      " 0.50207232 0.49366159 0.49703572 0.49947879 0.49421306 0.49854708\n",
      " 0.50475582 0.48929121 0.49927347 0.4955995  0.51411992 0.49775239\n",
      " 0.49116495 0.49828812 0.5048204  0.50457103 0.49950372 0.49747573\n",
      " 0.50261713 0.50006885 0.50183489 0.4973867  0.50460584 0.49503872\n",
      " 0.4928838  0.49785157 0.49687947 0.50154583 0.49845478 0.49511362\n",
      " 0.49740037 0.50048933 0.50433759 0.49745729 0.50246914 0.50082931\n",
      " 0.5046658  0.5016862  0.49913456 0.50104941 0.49745219 0.50202029\n",
      " 0.49813024 0.50049248 0.49576413 0.50385268 0.50001023 0.49935824\n",
      " 0.50618783 0.49955261 0.49977101 0.49798613 0.4994833  0.50156838\n",
      " 0.50220222 0.49764499 0.50100185 0.49811271 0.50177441 0.49993116\n",
      " 0.49737282 0.49829036 0.49611814 0.50129638 0.50274246 0.50295781\n",
      " 0.49849814 0.50267608 0.5007623  0.50129464 0.50382352 0.50039635\n",
      " 0.49972086 0.49849099 0.50412001 0.50429642 0.50303491 0.49311927\n",
      " 0.49594925 0.50324939 0.50022251 0.50432111 0.50372356 0.50025313\n",
      " 0.50263988 0.49863207 0.50707008 0.49710888 0.49154154 0.50135187\n",
      " 0.50628154 0.50157935 0.49874065 0.49678171 0.50167405 0.50069663\n",
      " 0.50112725 0.50006901 0.49747743 0.50296347 0.49852646 0.49676846\n",
      " 0.49525844 0.50633899 0.49827557 0.49959379 0.49318884 0.49721773\n",
      " 0.49771928 0.50002131 0.49420268 0.49948346 0.50142282 0.49393304\n",
      " 0.5069521  0.50929861 0.50096776 0.5023513  0.49294655 0.50219105\n",
      " 0.50033496 0.5013139  0.49434429 0.5013053  0.50273975 0.50315274\n",
      " 0.50382297 0.49624337 0.4955698  0.50368144 0.50029827 0.49775251\n",
      " 0.49712252 0.5007682  0.49157839 0.49443183 0.49843239 0.49882048\n",
      " 0.50614469 0.49915862 0.50174352 0.49578884 0.50192958 0.50210609\n",
      " 0.5006589  0.50461153 0.49575685 0.50564274 0.50258284 0.49957468\n",
      " 0.50054168 0.50081183 0.50080247 0.50428959 0.49757306 0.49592991\n",
      " 0.50058637 0.49717988 0.49836798 0.498856   0.50776482 0.50276403\n",
      " 0.50121004 0.49108622 0.4970684  0.49810096 0.49874291 0.49518576\n",
      " 0.50142668 0.50186604 0.49692172 0.50056895 0.50424997 0.49744357\n",
      " 0.500717   0.50125369 0.50088828 0.49783947 0.50182475 0.50230045\n",
      " 0.498731   0.49956802 0.5006883  0.49761151 0.50108532 0.5002414\n",
      " 0.50521291 0.49937619 0.49888358 0.49975092 0.49456166 0.50584319\n",
      " 0.50035286 0.50113646 0.50201505 0.49679226 0.50442207 0.49683184\n",
      " 0.49573229 0.49902465 0.50147171 0.49604831 0.50777718 0.50073122\n",
      " 0.49113343 0.50051342 0.50032704 0.50764611 0.50277554 0.49959021\n",
      " 0.49958459 0.5019293  0.50133005 0.49916793 0.50189553 0.50234206\n",
      " 0.49667631 0.49669009 0.50035204 0.49724031 0.50118303 0.49509545\n",
      " 0.49370613 0.50229506 0.50265917 0.50117414 0.50002803 0.49808918\n",
      " 0.49980562 0.50021247 0.49751855 0.50452211 0.50089813 0.49724321\n",
      " 0.50274048 0.49973106 0.50432237 0.49732387 0.49815522 0.50022769\n",
      " 0.4985865  0.49564099 0.50139577 0.50719975 0.50075419 0.4991836\n",
      " 0.50050111 0.50338779 0.50433761 0.4995359  0.50075926 0.49700102\n",
      " 0.49977802 0.50130998 0.50074822 0.50396389 0.5028654  0.49923548\n",
      " 0.50823728 0.5001344  0.50528744 0.49726075 0.50005579 0.50127652\n",
      " 0.49966015 0.50011509 0.49840016 0.49567232 0.50068349 0.50070149\n",
      " 0.49860822 0.50487655 0.50022477 0.51051738 0.50314623 0.50339232\n",
      " 0.50296057 0.50089332 0.50180033 0.48889231 0.50396729 0.50084582\n",
      " 0.49973711 0.50109403 0.50199274 0.5010195  0.5060498  0.50156261\n",
      " 0.49948655 0.49669921 0.50175863 0.50348035 0.5090185  0.49955477\n",
      " 0.49977648 0.49899423 0.50114293 0.49632132 0.49916246 0.5004055\n",
      " 0.50016776 0.50189377 0.49762988 0.4967034  0.50520106 0.49713534\n",
      " 0.49537495 0.50324595 0.50370873 0.5027892  0.49988448 0.49896057\n",
      " 0.50011665 0.50247349 0.49786702 0.49576661 0.49706418 0.50005558\n",
      " 0.49984907 0.50348555 0.49683096 0.49914559 0.49551732 0.49931061\n",
      " 0.49713988 0.49836231 0.50093378 0.50096752 0.50010062 0.49867196\n",
      " 0.50243824 0.49566547 0.50127324 0.49814323 0.49693109 0.4979866\n",
      " 0.5010101  0.49855786 0.50089332 0.49914617 0.50495959 0.50955284\n",
      " 0.50015854 0.50248808 0.50377987 0.49923774 0.49511103 0.49811276\n",
      " 0.49680569 0.49508875 0.5000262  0.50151508 0.49719815 0.5011436\n",
      " 0.49911204 0.50111299 0.49618012 0.49816415 0.49983642 0.49943846\n",
      " 0.49805638 0.49675842 0.49811826 0.49761422 0.49713576 0.49955966\n",
      " 0.50466959 0.49693853 0.49791638 0.50130182 0.50072598 0.50213445\n",
      " 0.50114207 0.50056718 0.49625309 0.49829679 0.49976465 0.49370456\n",
      " 0.50562201 0.49694036 0.49583739 0.50178378 0.49918944 0.50168109\n",
      " 0.49972109 0.50147037 0.50059234 0.49868631 0.49860785 0.50423291\n",
      " 0.50195043 0.5018012  0.50134917 0.50121101 0.50294269 0.4982561\n",
      " 0.498281   0.49537095 0.50646978 0.4959806  0.50023707 0.50094687\n",
      " 0.50644477 0.49910497 0.49845219 0.50435241 0.50539288 0.48728119\n",
      " 0.49732654 0.50317353 0.49830816 0.51073219 0.49787778 0.48885786\n",
      " 0.50188342 0.50317609 0.50757857 0.51324631 0.49919549 0.51435618\n",
      " 0.49698281 0.49968395 0.50073056 0.49741379 0.50048441 0.50091431\n",
      " 0.4986221  0.50340502 0.50309568 0.50549314 0.49779547 0.49729532\n",
      " 0.50021507 0.49314329 0.49944412 0.50075809 0.49896561 0.50404771\n",
      " 0.49554582 0.49456339 0.50118078 0.51112749 0.50222041 0.5017524\n",
      " 0.5023022  0.4997621  0.49972807 0.49861717 0.50136636 0.50194341\n",
      " 0.49897327 0.49661203 0.49754371 0.49874295 0.50201053 0.50011252\n",
      " 0.49220441 0.50297927 0.5066547  0.50052672 0.50495428 0.49807029\n",
      " 0.50096747 0.49636589 0.49724807 0.49238366 0.49255397 0.50163845\n",
      " 0.49868358 0.50810783 0.49657792 0.50215155 0.49774716 0.50182835\n",
      " 0.50354069 0.50456274 0.49606266 0.49911142 0.50292757 0.49935095\n",
      " 0.5019463  0.50167774 0.49859909 0.50500965 0.49782326 0.50050323\n",
      " 0.49777739 0.49602726 0.49783137 0.50411674 0.49948412 0.49568818\n",
      " 0.49603312 0.49791335 0.49805521 0.50036239 0.50420543 0.50042917\n",
      " 0.50699483 0.50105653 0.49955229 0.49402716]\n",
      "[ 1. -1.  1.  1.  1. -1. -1. -1. -1.  1. -1.  1.  1. -1.  1. -1. -1. -1.\n",
      "  1. -1. -1.  1. -1. -1. -1.  1. -1.  1. -1.  1. -1. -1. -1. -1. -1. -1.\n",
      " -1.  1. -1. -1.  1.  1.  1. -1. -1.  1.  1. -1. -1.  1. -1.  1.  1.  1.\n",
      " -1.  1.  1. -1. -1. -1.  1. -1. -1. -1.  1. -1.  1. -1.  1.  1.  1.  1.\n",
      " -1.  1.  1. -1. -1. -1.  1. -1.  1. -1.  1. -1. -1. -1.  1.  1. -1. -1.\n",
      " -1. -1. -1.  1. -1.  1.  1. -1. -1. -1. -1. -1. -1. -1.  1. -1. -1. -1.\n",
      "  1. -1.  1. -1. -1. -1.  1. -1.  1. -1.  1. -1.  1.  1.  1. -1.  1.  1.\n",
      "  1. -1.  1.  1.  1. -1. -1. -1.  1.  1.  1. -1. -1.  1.  1. -1.  1. -1.\n",
      " -1. -1. -1.  1. -1.  1. -1.  1. -1.  1.  1. -1. -1.  1.  1.  1.  1. -1.\n",
      " -1.  1.  1. -1. -1.  1. -1. -1. -1.  1.  1. -1. -1. -1.  1.  1. -1. -1.\n",
      " -1. -1.  1. -1.  1.  1.  1.  1.  1. -1. -1. -1. -1. -1.  1. -1.  1.  1.\n",
      " -1.  1. -1. -1. -1. -1.  1. -1. -1. -1.  1.  1. -1. -1.  1. -1. -1.  1.\n",
      " -1.  1.  1. -1.  1.  1.  1. -1.  1.  1. -1. -1. -1. -1. -1.  1. -1. -1.\n",
      "  1. -1. -1.  1.  1.  1.  1. -1. -1.  1.  1.  1.  1. -1.  1.  1. -1. -1.\n",
      " -1.  1.  1. -1.  1.  1. -1.  1.  1. -1. -1.  1. -1. -1. -1. -1. -1.  1.\n",
      " -1.  1.  1. -1.  1. -1.  1.  1. -1. -1.  1. -1. -1. -1. -1. -1.  1.  1.\n",
      "  1.  1. -1.  1. -1.  1. -1.  1. -1.  1. -1. -1. -1.  1.  1. -1. -1.  1.\n",
      " -1.  1.  1.  1.  1.  1. -1.  1.  1.  1.  1.  1.  1. -1.  1.  1. -1.  1.\n",
      " -1.  1.  1.  1.  1.  1. -1. -1. -1.  1.  1. -1.  1.  1. -1.  1. -1.  1.\n",
      " -1. -1. -1. -1.  1. -1.  1. -1. -1.  1. -1. -1. -1.  1.  1.  1. -1. -1.\n",
      "  1.  1.  1.  1.  1. -1. -1.  1.  1.  1. -1. -1.  1. -1. -1. -1.  1.  1.\n",
      " -1. -1. -1. -1. -1.  1. -1.  1.  1.  1.  1.  1.  1.  1.  1. -1. -1.  1.\n",
      "  1.  1. -1.  1.  1. -1. -1. -1. -1.  1. -1. -1. -1.  1.  1.  1.  1.  1.\n",
      "  1.  1. -1. -1.  1. -1.  1. -1. -1.  1.  1.  1. -1. -1. -1.  1.  1.  1.\n",
      " -1.  1.  1. -1.  1.  1. -1.  1. -1.  1. -1. -1. -1. -1. -1. -1.  1. -1.\n",
      "  1. -1. -1.  1.  1. -1. -1. -1.  1.  1.  1.  1.  1.  1. -1. -1. -1. -1.\n",
      "  1. -1. -1. -1.  1. -1. -1.  1. -1. -1.  1.  1. -1.  1.  1.  1. -1. -1.\n",
      " -1. -1.  1. -1.  1. -1.  1. -1. -1. -1.  1.  1.  1. -1. -1. -1. -1. -1.\n",
      "  1. -1. -1. -1.  1. -1. -1. -1.  1.  1. -1. -1.  1.  1.  1. -1.  1. -1.\n",
      " -1. -1. -1.  1. -1. -1. -1.  1.  1. -1.  1.  1.  1.  1. -1.  1. -1.  1.\n",
      " -1.  1. -1.  1.  1. -1.  1. -1. -1. -1. -1.  1.  1. -1.  1. -1.  1. -1.\n",
      " -1. -1. -1.  1.  1.  1. -1.  1.  1.  1.  1.  1. -1. -1.  1.  1.  1. -1.\n",
      " -1.  1.  1.  1.  1.  1.  1. -1.  1. -1. -1.  1.  1.  1. -1. -1.  1.  1.\n",
      "  1.  1. -1.  1. -1. -1. -1.  1. -1. -1. -1. -1. -1.  1. -1. -1.  1. -1.\n",
      "  1.  1.  1.  1. -1.  1.  1.  1. -1.  1.  1.  1.  1. -1. -1.  1.  1. -1.\n",
      " -1.  1. -1. -1. -1. -1.  1. -1.  1. -1.  1.  1.  1.  1. -1.  1.  1. -1.\n",
      "  1.  1.  1.  1. -1. -1.  1. -1. -1. -1.  1.  1.  1. -1. -1. -1. -1. -1.\n",
      "  1.  1. -1.  1.  1. -1.  1.  1.  1. -1.  1.  1. -1. -1.  1. -1.  1.  1.\n",
      "  1. -1. -1. -1. -1.  1.  1.  1.  1. -1.  1. -1. -1. -1.  1. -1.  1.  1.\n",
      " -1.  1.  1.  1.  1. -1. -1.  1.  1. -1.  1.  1. -1. -1.  1. -1.  1. -1.\n",
      " -1.  1.  1.  1.  1. -1. -1.  1. -1.  1.  1. -1.  1. -1.  1. -1. -1.  1.\n",
      " -1. -1.  1.  1.  1. -1.  1.  1.  1. -1.  1. -1. -1.  1.  1.  1.  1. -1.\n",
      "  1.  1.  1. -1.  1.  1. -1.  1. -1. -1.  1.  1. -1.  1.  1.  1.  1.  1.\n",
      "  1.  1.  1. -1.  1.  1. -1.  1.  1.  1.  1.  1. -1. -1.  1.  1.  1. -1.\n",
      " -1. -1.  1. -1. -1.  1.  1.  1. -1. -1.  1. -1. -1.  1.  1.  1. -1. -1.\n",
      "  1.  1. -1. -1. -1.  1. -1.  1. -1. -1. -1. -1. -1. -1.  1.  1.  1. -1.\n",
      "  1. -1.  1. -1. -1. -1.  1. -1.  1. -1.  1.  1.  1.  1.  1. -1. -1. -1.\n",
      " -1. -1.  1.  1. -1.  1. -1.  1. -1. -1. -1. -1. -1. -1. -1. -1. -1. -1.\n",
      "  1. -1. -1.  1.  1.  1.  1.  1. -1. -1. -1. -1.  1. -1. -1.  1. -1.  1.\n",
      " -1.  1.  1. -1. -1.  1.  1.  1.  1.  1.  1. -1. -1. -1.  1. -1.  1.  1.\n",
      "  1. -1. -1.  1.  1. -1. -1.  1. -1.  1. -1. -1.  1.  1.  1.  1. -1.  1.\n",
      " -1. -1.  1. -1.  1.  1. -1.  1.  1.  1. -1. -1.  1. -1. -1.  1. -1.  1.\n",
      " -1. -1.  1.  1.  1.  1.  1. -1. -1. -1.  1.  1. -1. -1. -1. -1.  1.  1.\n",
      " -1.  1.  1.  1.  1. -1.  1. -1. -1. -1. -1.  1. -1.  1. -1.  1. -1.  1.\n",
      "  1.  1. -1. -1.  1. -1.  1.  1. -1.  1. -1.  1. -1. -1. -1.  1. -1. -1.\n",
      " -1. -1. -1.  1.  1.  1.  1.  1. -1. -1.]\n"
     ]
    }
   ],
   "source": [
    "# Compare accuracy\n",
    "lambda_ = 0.5\n",
    "beta = grad_descent[-1]\n",
    "prob = np.exp(np.dot(X_train, beta)) / (np.exp(np.dot(X_train, beta)) + 1)\n",
    "prediction = np.zeros(len(prob))\n",
    "\n",
    "for i in range(len(prob)):\n",
    "    if prob[i] > 0.5:\n",
    "        prediction[i] = 1\n",
    "    else:\n",
    "        prediction[i] = -1\n",
    "\n",
    "print(prob)\n",
    "print(prediction)"
   ]
  },
  {
   "cell_type": "code",
   "execution_count": null,
   "metadata": {},
   "outputs": [],
   "source": [
    "train_performance = pd.crosstab(y_train, prediction, rownames = ['Truth'], colnames = ['Predictions'])\n",
    "train_performance"
   ]
  },
  {
   "cell_type": "code",
   "execution_count": null,
   "metadata": {},
   "outputs": [],
   "source": [
    "tn = train_performance.iloc[0, 0]\n",
    "tp = train_performance.iloc[1, 1]\n",
    "fn = train_performance.iloc[1, 0]\n",
    "fp = train_performance.iloc[0, 1]"
   ]
  },
  {
   "cell_type": "code",
   "execution_count": null,
   "metadata": {},
   "outputs": [],
   "source": [
    "print(\"Accuracy: \", (tp + tn) / (tp + tn + fn + fp))\n",
    "print(\"Misclassification: \", (fp + fn) / (tp + tn + fn + fp))"
   ]
  },
  {
   "cell_type": "markdown",
   "metadata": {},
   "source": [
    "`sklearn`'s Regularized Logistic Regression minimizes the function\n",
    "$$ \\begin{equation}\n",
    "F(\\beta) = \\frac{1}{2} \\beta^{T} \\beta + C \\sum_{i = 1}^{n} log(-y_{i}(X_{i}^T \\beta + c)+1)\n",
    "\\end{equation}$$\n",
    "\n",
    "The $C$ hyperparameter corresponds with $\\lambda = \\frac{1}{2nC}$, or $C = 2n\\lambda$"
   ]
  },
  {
   "cell_type": "code",
   "execution_count": 70,
   "metadata": {},
   "outputs": [],
   "source": [
    "lambda_ = 0.5\n",
    "n = X_train.shape[0]\n",
    "c = lambda_ * n * 2\n",
    "b_t = fast_grad_descent[-1]\n",
    "sk_logistic = LogisticRegression(penalty = 'l2',\n",
    "                                 tol = error,\n",
    "                                 C = c,\n",
    "                                 fit_intercept = False).fit(X_train, y_train)\n",
    "b_star = sk_logistic.coef_.ravel()"
   ]
  },
  {
   "cell_type": "code",
   "execution_count": 71,
   "metadata": {},
   "outputs": [
    {
     "name": "stdout",
     "output_type": "stream",
     "text": [
      "Beta_T - Beta*:  [ 0.06615578  0.05455137 -0.08501572]\n",
      "F(B_T):  0.03894608170536094\n",
      "F(B*):  0.011210567474149054\n"
     ]
    }
   ],
   "source": [
    "print('Beta_T - Beta*: ', (b_t - b_star))\n",
    "f_t = computeobj(b_t, X_train, y_train, lambda_)\n",
    "f_star = computeobj(b_star, X_train, y_train, lambda_)\n",
    "print(\"F(B_T): \", f_t)\n",
    "print(\"F(B*): \", f_star)"
   ]
  },
  {
   "cell_type": "markdown",
   "metadata": {},
   "source": [
    "`sklearn`'s implementation produced a lower objective function value compared to my implementation of fast gradient descent."
   ]
  },
  {
   "cell_type": "code",
   "execution_count": 73,
   "metadata": {},
   "outputs": [
    {
     "data": {
      "text/plain": [
       "0.005994842503189409"
      ]
     },
     "execution_count": 73,
     "metadata": {},
     "output_type": "execute_result"
    }
   ],
   "source": [
    "log_cv = LogisticRegressionCV(penalty = 'l2').fit(X_train, y_train).C_\n",
    "opt_lambda = log_cv[0] / (2 * n)\n",
    "log_cv[0]"
   ]
  },
  {
   "cell_type": "code",
   "execution_count": 77,
   "metadata": {},
   "outputs": [
    {
     "data": {
      "text/plain": [
       "<matplotlib.legend.Legend at 0x7f927eb35520>"
      ]
     },
     "execution_count": 77,
     "metadata": {},
     "output_type": "execute_result"
    },
    {
     "data": {
      "image/png": "[encoded data removed]",
      "text/plain": [
       "<Figure size 432x288 with 1 Axes>"
      ]
     },
     "metadata": {
      "needs_background": "light"
     },
     "output_type": "display_data"
    }
   ],
   "source": [
    "# Initialize parameters\n",
    "eta_init = 0.1\n",
    "error = 5e-4\n",
    "decay_rate = 0.8\n",
    "prop = 0.3\n",
    "beta_init = np.zeros(X.shape[1])\n",
    "\n",
    "grad_descent = graddescent(error, eta_init, decay_rate, prop, beta_init, X_train, y_train, opt_lambda)\n",
    "f_slow = [computeobj(b, X_train, y_train, opt_lambda) for b in grad_descent]\n",
    "fast_grad_descent = fastgradalgo(error, eta_init, decay_rate, prop, X_train, y_train, opt_lambda)\n",
    "f_fast = [computeobj(b, X_train, y_train, opt_lambda) for b in fast_grad_descent]\n",
    "\n",
    "plt.plot(f_slow, c = 'teal')\n",
    "plt.plot(f_fast, c = 'chocolate')\n",
    "plt.title('Objective Function vs. iterations')\n",
    "plt.xlabel('t')\n",
    "plt.ylabel('F(B)')\n",
    "plt.legend(['Grad desc', 'Fast grad desc'])"
   ]
  },
  {
   "cell_type": "code",
   "execution_count": 90,
   "metadata": {},
   "outputs": [],
   "source": [
    "def misclass_rate(beta, X, y):\n",
    "    \"\"\"\n",
    "    Returns the optimal eta for fast gradient descent.\n",
    "    \n",
    "    Parameters\n",
    "    ----------\n",
    "    beta : 1D array\n",
    "        A 1xd numpy array\n",
    "    X : ndarray\n",
    "        A n x d numpy array of feature data\n",
    "    y : 1D array\n",
    "        A 1 x n numpy array of correct response data\n",
    "    \n",
    "    Returns\n",
    "    -------\n",
    "    misclass : float\n",
    "        Misclassification rate\n",
    "    \"\"\"\n",
    "    prob = np.exp(np.dot(X, beta)) / (np.exp(np.dot(X, beta)) + 1)\n",
    "    prediction = np.zeros(len(prob))\n",
    "\n",
    "    for i in range(len(prob)):\n",
    "        if prob[i] >= 0.5:\n",
    "            prediction[i] = 1\n",
    "        else:\n",
    "            prediction[i] = -1\n",
    "    \n",
    "    return np.mean(prediction != y)"
   ]
  },
  {
   "cell_type": "code",
   "execution_count": 91,
   "metadata": {},
   "outputs": [],
   "source": [
    "misclass_slow = [misclass_rate(b, X_train, y_train) for b in grad_descent]\n",
    "misclass_fast = [misclass_rate(b, X_train, y_train) for b in fast_grad_descent]"
   ]
  },
  {
   "cell_type": "code",
   "execution_count": 92,
   "metadata": {},
   "outputs": [
    {
     "data": {
      "text/plain": [
       "<matplotlib.legend.Legend at 0x7f9271423e20>"
      ]
     },
     "execution_count": 92,
     "metadata": {},
     "output_type": "execute_result"
    },
    {
     "data": {
      "image/png": "[encoded data removed]",
      "text/plain": [
       "<Figure size 432x288 with 1 Axes>"
      ]
     },
     "metadata": {
      "needs_background": "light"
     },
     "output_type": "display_data"
    }
   ],
   "source": [
    "plt.plot(misclass_slow, c = 'teal')\n",
    "plt.plot(misclass_fast, c = 'chocolate')\n",
    "plt.title('Misclassification Rate vs. iterations')\n",
    "plt.xlabel('t')\n",
    "plt.ylabel('Misclass rate')\n",
    "plt.legend(['Grad desc', 'Fast grad desc'])"
   ]
  }
 ],
 "metadata": {
  "kernelspec": {
   "display_name": "Python 3",
   "language": "python",
   "name": "python3"
  },
  "language_info": {
   "codemirror_mode": {
    "name": "ipython",
    "version": 3
   },
   "file_extension": ".py",
   "mimetype": "text/x-python",
   "name": "python",
   "nbconvert_exporter": "python",
   "pygments_lexer": "ipython3",
   "version": "3.8.5"
  }
 },
 "nbformat": 4,
 "nbformat_minor": 5
}
